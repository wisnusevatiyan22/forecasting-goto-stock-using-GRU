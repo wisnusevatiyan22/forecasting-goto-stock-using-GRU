{
  "nbformat": 4,
  "nbformat_minor": 0,
  "metadata": {
    "colab": {
      "provenance": [],
      "gpuType": "T4"
    },
    "kernelspec": {
      "name": "python3",
      "display_name": "Python 3"
    },
    "language_info": {
      "name": "python"
    },
    "accelerator": "GPU"
  },
  "cells": [
    {
      "cell_type": "code",
      "execution_count": null,
      "metadata": {
        "id": "p8le9vTd771b"
      },
      "outputs": [],
      "source": [
        "import pandas as pd\n",
        "import numpy as np\n",
        "import matplotlib.pyplot as plt\n",
        "\n",
        "import torch\n",
        "import torch.nn as nn\n",
        "import yfinance as yf"
      ]
    },
    {
      "cell_type": "code",
      "source": [
        "import torch\n",
        "import random\n",
        "import numpy as np\n",
        "\n",
        "# Atur random seed untuk Python\n",
        "random_seed = 100\n",
        "random.seed(random_seed)\n",
        "\n",
        "# Atur random seed untuk NumPy\n",
        "np.random.seed(random_seed)\n",
        "\n",
        "# Atur random seed untuk PyTorch (dalam hal penggunaan GPU)\n",
        "torch.manual_seed(random_seed)\n",
        "if torch.cuda.is_available():\n",
        "    torch.cuda.manual_seed_all(random_seed)\n"
      ],
      "metadata": {
        "id": "MSGUQ1dUbzxn"
      },
      "execution_count": null,
      "outputs": []
    },
    {
      "cell_type": "code",
      "source": [
        "# Define the ticker symbol for Gold\n",
        "tick = 'GOTO.JK'\n",
        "\n",
        "# Define the date range for which you want to retrieve data\n",
        "start_date = '2022-04-11'\n",
        "end_date = '2023-09-27'\n",
        "\n",
        "# Retrieve daily data for Gold\n",
        "data = yf.download(tick, start=start_date, end=end_date)\n",
        "\n",
        "# Reset the index to use the default integer index\n",
        "data.reset_index(inplace=True)\n",
        "\n",
        "# Display the DataFrame with the default integer index\n",
        "print(data)\n"
      ],
      "metadata": {
        "colab": {
          "base_uri": "https://localhost:8080/"
        },
        "id": "Jq1noERc9J60",
        "outputId": "af41cb5d-8638-4b3d-bc0a-7a7d5005d940"
      },
      "execution_count": null,
      "outputs": [
        {
          "output_type": "stream",
          "name": "stdout",
          "text": [
            "\r[*********************100%%**********************]  1 of 1 completed\n",
            "          Date   Open   High    Low  Close  Adj Close      Volume\n",
            "0   2022-04-11  400.0  416.0  372.0  382.0      382.0  9410897000\n",
            "1   2022-04-12  422.0  442.0  360.0  370.0      370.0  3887331000\n",
            "2   2022-04-13  370.0  380.0  360.0  374.0      374.0  3262811400\n",
            "3   2022-04-14  374.0  382.0  374.0  376.0      376.0  3675981900\n",
            "4   2022-04-18  376.0  380.0  370.0  378.0      378.0  2660312700\n",
            "..         ...    ...    ...    ...    ...        ...         ...\n",
            "348 2023-09-20   90.0   93.0   90.0   90.0       90.0  1687125100\n",
            "349 2023-09-21   90.0   91.0   87.0   88.0       88.0  1530818800\n",
            "350 2023-09-22   88.0   90.0   87.0   87.0       87.0  1058373800\n",
            "351 2023-09-25   88.0   89.0   87.0   87.0       87.0  1603642100\n",
            "352 2023-09-26   91.0   92.0   87.0   87.0       87.0  5154826100\n",
            "\n",
            "[353 rows x 7 columns]\n"
          ]
        }
      ]
    },
    {
      "cell_type": "code",
      "source": [
        "data = data[['Date', 'Close']]\n",
        "data"
      ],
      "metadata": {
        "colab": {
          "base_uri": "https://localhost:8080/",
          "height": 424
        },
        "id": "Lh3Icfmi9KiZ",
        "outputId": "551a4805-5280-40ab-e728-a31bedc45e8e"
      },
      "execution_count": null,
      "outputs": [
        {
          "output_type": "execute_result",
          "data": {
            "text/plain": [
              "          Date  Close\n",
              "0   2022-04-11  382.0\n",
              "1   2022-04-12  370.0\n",
              "2   2022-04-13  374.0\n",
              "3   2022-04-14  376.0\n",
              "4   2022-04-18  378.0\n",
              "..         ...    ...\n",
              "348 2023-09-20   90.0\n",
              "349 2023-09-21   88.0\n",
              "350 2023-09-22   87.0\n",
              "351 2023-09-25   87.0\n",
              "352 2023-09-26   87.0\n",
              "\n",
              "[353 rows x 2 columns]"
            ],
            "text/html": [
              "\n",
              "  <div id=\"df-485ab42d-849d-4cd9-b968-8ab6837cd6fc\" class=\"colab-df-container\">\n",
              "    <div>\n",
              "<style scoped>\n",
              "    .dataframe tbody tr th:only-of-type {\n",
              "        vertical-align: middle;\n",
              "    }\n",
              "\n",
              "    .dataframe tbody tr th {\n",
              "        vertical-align: top;\n",
              "    }\n",
              "\n",
              "    .dataframe thead th {\n",
              "        text-align: right;\n",
              "    }\n",
              "</style>\n",
              "<table border=\"1\" class=\"dataframe\">\n",
              "  <thead>\n",
              "    <tr style=\"text-align: right;\">\n",
              "      <th></th>\n",
              "      <th>Date</th>\n",
              "      <th>Close</th>\n",
              "    </tr>\n",
              "  </thead>\n",
              "  <tbody>\n",
              "    <tr>\n",
              "      <th>0</th>\n",
              "      <td>2022-04-11</td>\n",
              "      <td>382.0</td>\n",
              "    </tr>\n",
              "    <tr>\n",
              "      <th>1</th>\n",
              "      <td>2022-04-12</td>\n",
              "      <td>370.0</td>\n",
              "    </tr>\n",
              "    <tr>\n",
              "      <th>2</th>\n",
              "      <td>2022-04-13</td>\n",
              "      <td>374.0</td>\n",
              "    </tr>\n",
              "    <tr>\n",
              "      <th>3</th>\n",
              "      <td>2022-04-14</td>\n",
              "      <td>376.0</td>\n",
              "    </tr>\n",
              "    <tr>\n",
              "      <th>4</th>\n",
              "      <td>2022-04-18</td>\n",
              "      <td>378.0</td>\n",
              "    </tr>\n",
              "    <tr>\n",
              "      <th>...</th>\n",
              "      <td>...</td>\n",
              "      <td>...</td>\n",
              "    </tr>\n",
              "    <tr>\n",
              "      <th>348</th>\n",
              "      <td>2023-09-20</td>\n",
              "      <td>90.0</td>\n",
              "    </tr>\n",
              "    <tr>\n",
              "      <th>349</th>\n",
              "      <td>2023-09-21</td>\n",
              "      <td>88.0</td>\n",
              "    </tr>\n",
              "    <tr>\n",
              "      <th>350</th>\n",
              "      <td>2023-09-22</td>\n",
              "      <td>87.0</td>\n",
              "    </tr>\n",
              "    <tr>\n",
              "      <th>351</th>\n",
              "      <td>2023-09-25</td>\n",
              "      <td>87.0</td>\n",
              "    </tr>\n",
              "    <tr>\n",
              "      <th>352</th>\n",
              "      <td>2023-09-26</td>\n",
              "      <td>87.0</td>\n",
              "    </tr>\n",
              "  </tbody>\n",
              "</table>\n",
              "<p>353 rows × 2 columns</p>\n",
              "</div>\n",
              "    <div class=\"colab-df-buttons\">\n",
              "\n",
              "  <div class=\"colab-df-container\">\n",
              "    <button class=\"colab-df-convert\" onclick=\"convertToInteractive('df-485ab42d-849d-4cd9-b968-8ab6837cd6fc')\"\n",
              "            title=\"Convert this dataframe to an interactive table.\"\n",
              "            style=\"display:none;\">\n",
              "\n",
              "  <svg xmlns=\"http://www.w3.org/2000/svg\" height=\"24px\" viewBox=\"0 -960 960 960\">\n",
              "    <path d=\"M120-120v-720h720v720H120Zm60-500h600v-160H180v160Zm220 220h160v-160H400v160Zm0 220h160v-160H400v160ZM180-400h160v-160H180v160Zm440 0h160v-160H620v160ZM180-180h160v-160H180v160Zm440 0h160v-160H620v160Z\"/>\n",
              "  </svg>\n",
              "    </button>\n",
              "\n",
              "  <style>\n",
              "    .colab-df-container {\n",
              "      display:flex;\n",
              "      gap: 12px;\n",
              "    }\n",
              "\n",
              "    .colab-df-convert {\n",
              "      background-color: #E8F0FE;\n",
              "      border: none;\n",
              "      border-radius: 50%;\n",
              "      cursor: pointer;\n",
              "      display: none;\n",
              "      fill: #1967D2;\n",
              "      height: 32px;\n",
              "      padding: 0 0 0 0;\n",
              "      width: 32px;\n",
              "    }\n",
              "\n",
              "    .colab-df-convert:hover {\n",
              "      background-color: #E2EBFA;\n",
              "      box-shadow: 0px 1px 2px rgba(60, 64, 67, 0.3), 0px 1px 3px 1px rgba(60, 64, 67, 0.15);\n",
              "      fill: #174EA6;\n",
              "    }\n",
              "\n",
              "    .colab-df-buttons div {\n",
              "      margin-bottom: 4px;\n",
              "    }\n",
              "\n",
              "    [theme=dark] .colab-df-convert {\n",
              "      background-color: #3B4455;\n",
              "      fill: #D2E3FC;\n",
              "    }\n",
              "\n",
              "    [theme=dark] .colab-df-convert:hover {\n",
              "      background-color: #434B5C;\n",
              "      box-shadow: 0px 1px 3px 1px rgba(0, 0, 0, 0.15);\n",
              "      filter: drop-shadow(0px 1px 2px rgba(0, 0, 0, 0.3));\n",
              "      fill: #FFFFFF;\n",
              "    }\n",
              "  </style>\n",
              "\n",
              "    <script>\n",
              "      const buttonEl =\n",
              "        document.querySelector('#df-485ab42d-849d-4cd9-b968-8ab6837cd6fc button.colab-df-convert');\n",
              "      buttonEl.style.display =\n",
              "        google.colab.kernel.accessAllowed ? 'block' : 'none';\n",
              "\n",
              "      async function convertToInteractive(key) {\n",
              "        const element = document.querySelector('#df-485ab42d-849d-4cd9-b968-8ab6837cd6fc');\n",
              "        const dataTable =\n",
              "          await google.colab.kernel.invokeFunction('convertToInteractive',\n",
              "                                                    [key], {});\n",
              "        if (!dataTable) return;\n",
              "\n",
              "        const docLinkHtml = 'Like what you see? Visit the ' +\n",
              "          '<a target=\"_blank\" href=https://colab.research.google.com/notebooks/data_table.ipynb>data table notebook</a>'\n",
              "          + ' to learn more about interactive tables.';\n",
              "        element.innerHTML = '';\n",
              "        dataTable['output_type'] = 'display_data';\n",
              "        await google.colab.output.renderOutput(dataTable, element);\n",
              "        const docLink = document.createElement('div');\n",
              "        docLink.innerHTML = docLinkHtml;\n",
              "        element.appendChild(docLink);\n",
              "      }\n",
              "    </script>\n",
              "  </div>\n",
              "\n",
              "\n",
              "<div id=\"df-b913723a-c987-4a90-9314-c5daf6aa5b07\">\n",
              "  <button class=\"colab-df-quickchart\" onclick=\"quickchart('df-b913723a-c987-4a90-9314-c5daf6aa5b07')\"\n",
              "            title=\"Suggest charts\"\n",
              "            style=\"display:none;\">\n",
              "\n",
              "<svg xmlns=\"http://www.w3.org/2000/svg\" height=\"24px\"viewBox=\"0 0 24 24\"\n",
              "     width=\"24px\">\n",
              "    <g>\n",
              "        <path d=\"M19 3H5c-1.1 0-2 .9-2 2v14c0 1.1.9 2 2 2h14c1.1 0 2-.9 2-2V5c0-1.1-.9-2-2-2zM9 17H7v-7h2v7zm4 0h-2V7h2v10zm4 0h-2v-4h2v4z\"/>\n",
              "    </g>\n",
              "</svg>\n",
              "  </button>\n",
              "\n",
              "<style>\n",
              "  .colab-df-quickchart {\n",
              "      --bg-color: #E8F0FE;\n",
              "      --fill-color: #1967D2;\n",
              "      --hover-bg-color: #E2EBFA;\n",
              "      --hover-fill-color: #174EA6;\n",
              "      --disabled-fill-color: #AAA;\n",
              "      --disabled-bg-color: #DDD;\n",
              "  }\n",
              "\n",
              "  [theme=dark] .colab-df-quickchart {\n",
              "      --bg-color: #3B4455;\n",
              "      --fill-color: #D2E3FC;\n",
              "      --hover-bg-color: #434B5C;\n",
              "      --hover-fill-color: #FFFFFF;\n",
              "      --disabled-bg-color: #3B4455;\n",
              "      --disabled-fill-color: #666;\n",
              "  }\n",
              "\n",
              "  .colab-df-quickchart {\n",
              "    background-color: var(--bg-color);\n",
              "    border: none;\n",
              "    border-radius: 50%;\n",
              "    cursor: pointer;\n",
              "    display: none;\n",
              "    fill: var(--fill-color);\n",
              "    height: 32px;\n",
              "    padding: 0;\n",
              "    width: 32px;\n",
              "  }\n",
              "\n",
              "  .colab-df-quickchart:hover {\n",
              "    background-color: var(--hover-bg-color);\n",
              "    box-shadow: 0 1px 2px rgba(60, 64, 67, 0.3), 0 1px 3px 1px rgba(60, 64, 67, 0.15);\n",
              "    fill: var(--button-hover-fill-color);\n",
              "  }\n",
              "\n",
              "  .colab-df-quickchart-complete:disabled,\n",
              "  .colab-df-quickchart-complete:disabled:hover {\n",
              "    background-color: var(--disabled-bg-color);\n",
              "    fill: var(--disabled-fill-color);\n",
              "    box-shadow: none;\n",
              "  }\n",
              "\n",
              "  .colab-df-spinner {\n",
              "    border: 2px solid var(--fill-color);\n",
              "    border-color: transparent;\n",
              "    border-bottom-color: var(--fill-color);\n",
              "    animation:\n",
              "      spin 1s steps(1) infinite;\n",
              "  }\n",
              "\n",
              "  @keyframes spin {\n",
              "    0% {\n",
              "      border-color: transparent;\n",
              "      border-bottom-color: var(--fill-color);\n",
              "      border-left-color: var(--fill-color);\n",
              "    }\n",
              "    20% {\n",
              "      border-color: transparent;\n",
              "      border-left-color: var(--fill-color);\n",
              "      border-top-color: var(--fill-color);\n",
              "    }\n",
              "    30% {\n",
              "      border-color: transparent;\n",
              "      border-left-color: var(--fill-color);\n",
              "      border-top-color: var(--fill-color);\n",
              "      border-right-color: var(--fill-color);\n",
              "    }\n",
              "    40% {\n",
              "      border-color: transparent;\n",
              "      border-right-color: var(--fill-color);\n",
              "      border-top-color: var(--fill-color);\n",
              "    }\n",
              "    60% {\n",
              "      border-color: transparent;\n",
              "      border-right-color: var(--fill-color);\n",
              "    }\n",
              "    80% {\n",
              "      border-color: transparent;\n",
              "      border-right-color: var(--fill-color);\n",
              "      border-bottom-color: var(--fill-color);\n",
              "    }\n",
              "    90% {\n",
              "      border-color: transparent;\n",
              "      border-bottom-color: var(--fill-color);\n",
              "    }\n",
              "  }\n",
              "</style>\n",
              "\n",
              "  <script>\n",
              "    async function quickchart(key) {\n",
              "      const quickchartButtonEl =\n",
              "        document.querySelector('#' + key + ' button');\n",
              "      quickchartButtonEl.disabled = true;  // To prevent multiple clicks.\n",
              "      quickchartButtonEl.classList.add('colab-df-spinner');\n",
              "      try {\n",
              "        const charts = await google.colab.kernel.invokeFunction(\n",
              "            'suggestCharts', [key], {});\n",
              "      } catch (error) {\n",
              "        console.error('Error during call to suggestCharts:', error);\n",
              "      }\n",
              "      quickchartButtonEl.classList.remove('colab-df-spinner');\n",
              "      quickchartButtonEl.classList.add('colab-df-quickchart-complete');\n",
              "    }\n",
              "    (() => {\n",
              "      let quickchartButtonEl =\n",
              "        document.querySelector('#df-b913723a-c987-4a90-9314-c5daf6aa5b07 button');\n",
              "      quickchartButtonEl.style.display =\n",
              "        google.colab.kernel.accessAllowed ? 'block' : 'none';\n",
              "    })();\n",
              "  </script>\n",
              "</div>\n",
              "    </div>\n",
              "  </div>\n"
            ]
          },
          "metadata": {},
          "execution_count": 4
        }
      ]
    },
    {
      "cell_type": "code",
      "source": [
        "device = 'cuda:0' if torch.cuda.is_available() else 'cpu'\n",
        "device"
      ],
      "metadata": {
        "colab": {
          "base_uri": "https://localhost:8080/",
          "height": 35
        },
        "id": "9545i5RJ9LO8",
        "outputId": "cb2471f4-0ba7-4bd9-a7a5-0b8730c859d8"
      },
      "execution_count": null,
      "outputs": [
        {
          "output_type": "execute_result",
          "data": {
            "text/plain": [
              "'cuda:0'"
            ],
            "application/vnd.google.colaboratory.intrinsic+json": {
              "type": "string"
            }
          },
          "metadata": {},
          "execution_count": 5
        }
      ]
    },
    {
      "cell_type": "code",
      "source": [
        "# Assuming you've already converted the 'Date' column to datetime\n",
        "data['Date'] = pd.to_datetime(data['Date'])\n",
        "\n",
        "# Set the figure size\n",
        "plt.figure(figsize=(12, 6))  # Adjust the width (12) and height (6) as needed\n",
        "\n",
        "# Plot the data\n",
        "plt.plot(data['Date'], data['Close'])\n",
        "\n",
        "# Add labels and title (if needed)\n",
        "plt.xlabel('Tanggal')\n",
        "plt.ylabel('Harga Penutupan')\n",
        "plt.title('Harga Saham GoTo')\n",
        "\n",
        "# Display the plot\n",
        "plt.show()\n"
      ],
      "metadata": {
        "colab": {
          "base_uri": "https://localhost:8080/",
          "height": 426
        },
        "id": "c5AyQJ3T-0mA",
        "outputId": "16cd5661-e02a-48d5-d5ee-b8025eabd398"
      },
      "execution_count": null,
      "outputs": [
        {
          "output_type": "display_data",
          "data": {
            "text/plain": [
              "<Figure size 1200x600 with 1 Axes>"
            ],
            "image/png": "[encoded data removed]"
          },
          "metadata": {}
        }
      ]
    },
    {
      "cell_type": "code",
      "source": [
        "from copy import deepcopy as dc\n",
        "from tensorflow.keras.layers import GRU\n",
        "from tensorflow.keras.models import Sequential\n",
        "\n",
        "def prepare_dataframe_for_gru(df, n_steps):\n",
        "    df = dc(df)\n",
        "\n",
        "    df.set_index('Date', inplace=True)\n",
        "\n",
        "    for i in range(1, n_steps + 1):\n",
        "        df[f'Close(t-{i})'] = df['Close'].shift(i)\n",
        "\n",
        "    df.dropna(inplace=True)\n",
        "\n",
        "    return df\n",
        "\n",
        "lookback = 7\n",
        "shifted_df = prepare_dataframe_for_gru(data, lookback)\n",
        "shifted_df\n"
      ],
      "metadata": {
        "colab": {
          "base_uri": "https://localhost:8080/",
          "height": 455
        },
        "id": "koX9iEPF-1T-",
        "outputId": "8cb0a3f2-81f7-45ec-e05c-0edb7fe3f52f"
      },
      "execution_count": null,
      "outputs": [
        {
          "output_type": "execute_result",
          "data": {
            "text/plain": [
              "            Close  Close(t-1)  Close(t-2)  Close(t-3)  Close(t-4)  Close(t-5)  \\\n",
              "Date                                                                            \n",
              "2022-04-21  340.0       338.0       358.0       378.0       376.0       374.0   \n",
              "2022-04-22  340.0       340.0       338.0       358.0       378.0       376.0   \n",
              "2022-04-25  328.0       340.0       340.0       338.0       358.0       378.0   \n",
              "2022-04-26  310.0       328.0       340.0       340.0       338.0       358.0   \n",
              "2022-04-27  290.0       310.0       328.0       340.0       340.0       338.0   \n",
              "...           ...         ...         ...         ...         ...         ...   \n",
              "2023-09-20   90.0        90.0        92.0        92.0        88.0        87.0   \n",
              "2023-09-21   88.0        90.0        90.0        92.0        92.0        88.0   \n",
              "2023-09-22   87.0        88.0        90.0        90.0        92.0        92.0   \n",
              "2023-09-25   87.0        87.0        88.0        90.0        90.0        92.0   \n",
              "2023-09-26   87.0        87.0        87.0        88.0        90.0        90.0   \n",
              "\n",
              "            Close(t-6)  Close(t-7)  \n",
              "Date                                \n",
              "2022-04-21       370.0       382.0  \n",
              "2022-04-22       374.0       370.0  \n",
              "2022-04-25       376.0       374.0  \n",
              "2022-04-26       378.0       376.0  \n",
              "2022-04-27       358.0       378.0  \n",
              "...                ...         ...  \n",
              "2023-09-20        88.0        89.0  \n",
              "2023-09-21        87.0        88.0  \n",
              "2023-09-22        88.0        87.0  \n",
              "2023-09-25        92.0        88.0  \n",
              "2023-09-26        92.0        92.0  \n",
              "\n",
              "[346 rows x 8 columns]"
            ],
            "text/html": [
              "\n",
              "  <div id=\"df-1260d846-13c4-4cc1-a11e-6279e1ff9653\" class=\"colab-df-container\">\n",
              "    <div>\n",
              "<style scoped>\n",
              "    .dataframe tbody tr th:only-of-type {\n",
              "        vertical-align: middle;\n",
              "    }\n",
              "\n",
              "    .dataframe tbody tr th {\n",
              "        vertical-align: top;\n",
              "    }\n",
              "\n",
              "    .dataframe thead th {\n",
              "        text-align: right;\n",
              "    }\n",
              "</style>\n",
              "<table border=\"1\" class=\"dataframe\">\n",
              "  <thead>\n",
              "    <tr style=\"text-align: right;\">\n",
              "      <th></th>\n",
              "      <th>Close</th>\n",
              "      <th>Close(t-1)</th>\n",
              "      <th>Close(t-2)</th>\n",
              "      <th>Close(t-3)</th>\n",
              "      <th>Close(t-4)</th>\n",
              "      <th>Close(t-5)</th>\n",
              "      <th>Close(t-6)</th>\n",
              "      <th>Close(t-7)</th>\n",
              "    </tr>\n",
              "    <tr>\n",
              "      <th>Date</th>\n",
              "      <th></th>\n",
              "      <th></th>\n",
              "      <th></th>\n",
              "      <th></th>\n",
              "      <th></th>\n",
              "      <th></th>\n",
              "      <th></th>\n",
              "      <th></th>\n",
              "    </tr>\n",
              "  </thead>\n",
              "  <tbody>\n",
              "    <tr>\n",
              "      <th>2022-04-21</th>\n",
              "      <td>340.0</td>\n",
              "      <td>338.0</td>\n",
              "      <td>358.0</td>\n",
              "      <td>378.0</td>\n",
              "      <td>376.0</td>\n",
              "      <td>374.0</td>\n",
              "      <td>370.0</td>\n",
              "      <td>382.0</td>\n",
              "    </tr>\n",
              "    <tr>\n",
              "      <th>2022-04-22</th>\n",
              "      <td>340.0</td>\n",
              "      <td>340.0</td>\n",
              "      <td>338.0</td>\n",
              "      <td>358.0</td>\n",
              "      <td>378.0</td>\n",
              "      <td>376.0</td>\n",
              "      <td>374.0</td>\n",
              "      <td>370.0</td>\n",
              "    </tr>\n",
              "    <tr>\n",
              "      <th>2022-04-25</th>\n",
              "      <td>328.0</td>\n",
              "      <td>340.0</td>\n",
              "      <td>340.0</td>\n",
              "      <td>338.0</td>\n",
              "      <td>358.0</td>\n",
              "      <td>378.0</td>\n",
              "      <td>376.0</td>\n",
              "      <td>374.0</td>\n",
              "    </tr>\n",
              "    <tr>\n",
              "      <th>2022-04-26</th>\n",
              "      <td>310.0</td>\n",
              "      <td>328.0</td>\n",
              "      <td>340.0</td>\n",
              "      <td>340.0</td>\n",
              "      <td>338.0</td>\n",
              "      <td>358.0</td>\n",
              "      <td>378.0</td>\n",
              "      <td>376.0</td>\n",
              "    </tr>\n",
              "    <tr>\n",
              "      <th>2022-04-27</th>\n",
              "      <td>290.0</td>\n",
              "      <td>310.0</td>\n",
              "      <td>328.0</td>\n",
              "      <td>340.0</td>\n",
              "      <td>340.0</td>\n",
              "      <td>338.0</td>\n",
              "      <td>358.0</td>\n",
              "      <td>378.0</td>\n",
              "    </tr>\n",
              "    <tr>\n",
              "      <th>...</th>\n",
              "      <td>...</td>\n",
              "      <td>...</td>\n",
              "      <td>...</td>\n",
              "      <td>...</td>\n",
              "      <td>...</td>\n",
              "      <td>...</td>\n",
              "      <td>...</td>\n",
              "      <td>...</td>\n",
              "    </tr>\n",
              "    <tr>\n",
              "      <th>2023-09-20</th>\n",
              "      <td>90.0</td>\n",
              "      <td>90.0</td>\n",
              "      <td>92.0</td>\n",
              "      <td>92.0</td>\n",
              "      <td>88.0</td>\n",
              "      <td>87.0</td>\n",
              "      <td>88.0</td>\n",
              "      <td>89.0</td>\n",
              "    </tr>\n",
              "    <tr>\n",
              "      <th>2023-09-21</th>\n",
              "      <td>88.0</td>\n",
              "      <td>90.0</td>\n",
              "      <td>90.0</td>\n",
              "      <td>92.0</td>\n",
              "      <td>92.0</td>\n",
              "      <td>88.0</td>\n",
              "      <td>87.0</td>\n",
              "      <td>88.0</td>\n",
              "    </tr>\n",
              "    <tr>\n",
              "      <th>2023-09-22</th>\n",
              "      <td>87.0</td>\n",
              "      <td>88.0</td>\n",
              "      <td>90.0</td>\n",
              "      <td>90.0</td>\n",
              "      <td>92.0</td>\n",
              "      <td>92.0</td>\n",
              "      <td>88.0</td>\n",
              "      <td>87.0</td>\n",
              "    </tr>\n",
              "    <tr>\n",
              "      <th>2023-09-25</th>\n",
              "      <td>87.0</td>\n",
              "      <td>87.0</td>\n",
              "      <td>88.0</td>\n",
              "      <td>90.0</td>\n",
              "      <td>90.0</td>\n",
              "      <td>92.0</td>\n",
              "      <td>92.0</td>\n",
              "      <td>88.0</td>\n",
              "    </tr>\n",
              "    <tr>\n",
              "      <th>2023-09-26</th>\n",
              "      <td>87.0</td>\n",
              "      <td>87.0</td>\n",
              "      <td>87.0</td>\n",
              "      <td>88.0</td>\n",
              "      <td>90.0</td>\n",
              "      <td>90.0</td>\n",
              "      <td>92.0</td>\n",
              "      <td>92.0</td>\n",
              "    </tr>\n",
              "  </tbody>\n",
              "</table>\n",
              "<p>346 rows × 8 columns</p>\n",
              "</div>\n",
              "    <div class=\"colab-df-buttons\">\n",
              "\n",
              "  <div class=\"colab-df-container\">\n",
              "    <button class=\"colab-df-convert\" onclick=\"convertToInteractive('df-1260d846-13c4-4cc1-a11e-6279e1ff9653')\"\n",
              "            title=\"Convert this dataframe to an interactive table.\"\n",
              "            style=\"display:none;\">\n",
              "\n",
              "  <svg xmlns=\"http://www.w3.org/2000/svg\" height=\"24px\" viewBox=\"0 -960 960 960\">\n",
              "    <path d=\"M120-120v-720h720v720H120Zm60-500h600v-160H180v160Zm220 220h160v-160H400v160Zm0 220h160v-160H400v160ZM180-400h160v-160H180v160Zm440 0h160v-160H620v160ZM180-180h160v-160H180v160Zm440 0h160v-160H620v160Z\"/>\n",
              "  </svg>\n",
              "    </button>\n",
              "\n",
              "  <style>\n",
              "    .colab-df-container {\n",
              "      display:flex;\n",
              "      gap: 12px;\n",
              "    }\n",
              "\n",
              "    .colab-df-convert {\n",
              "      background-color: #E8F0FE;\n",
              "      border: none;\n",
              "      border-radius: 50%;\n",
              "      cursor: pointer;\n",
              "      display: none;\n",
              "      fill: #1967D2;\n",
              "      height: 32px;\n",
              "      padding: 0 0 0 0;\n",
              "      width: 32px;\n",
              "    }\n",
              "\n",
              "    .colab-df-convert:hover {\n",
              "      background-color: #E2EBFA;\n",
              "      box-shadow: 0px 1px 2px rgba(60, 64, 67, 0.3), 0px 1px 3px 1px rgba(60, 64, 67, 0.15);\n",
              "      fill: #174EA6;\n",
              "    }\n",
              "\n",
              "    .colab-df-buttons div {\n",
              "      margin-bottom: 4px;\n",
              "    }\n",
              "\n",
              "    [theme=dark] .colab-df-convert {\n",
              "      background-color: #3B4455;\n",
              "      fill: #D2E3FC;\n",
              "    }\n",
              "\n",
              "    [theme=dark] .colab-df-convert:hover {\n",
              "      background-color: #434B5C;\n",
              "      box-shadow: 0px 1px 3px 1px rgba(0, 0, 0, 0.15);\n",
              "      filter: drop-shadow(0px 1px 2px rgba(0, 0, 0, 0.3));\n",
              "      fill: #FFFFFF;\n",
              "    }\n",
              "  </style>\n",
              "\n",
              "    <script>\n",
              "      const buttonEl =\n",
              "        document.querySelector('#df-1260d846-13c4-4cc1-a11e-6279e1ff9653 button.colab-df-convert');\n",
              "      buttonEl.style.display =\n",
              "        google.colab.kernel.accessAllowed ? 'block' : 'none';\n",
              "\n",
              "      async function convertToInteractive(key) {\n",
              "        const element = document.querySelector('#df-1260d846-13c4-4cc1-a11e-6279e1ff9653');\n",
              "        const dataTable =\n",
              "          await google.colab.kernel.invokeFunction('convertToInteractive',\n",
              "                                                    [key], {});\n",
              "        if (!dataTable) return;\n",
              "\n",
              "        const docLinkHtml = 'Like what you see? Visit the ' +\n",
              "          '<a target=\"_blank\" href=https://colab.research.google.com/notebooks/data_table.ipynb>data table notebook</a>'\n",
              "          + ' to learn more about interactive tables.';\n",
              "        element.innerHTML = '';\n",
              "        dataTable['output_type'] = 'display_data';\n",
              "        await google.colab.output.renderOutput(dataTable, element);\n",
              "        const docLink = document.createElement('div');\n",
              "        docLink.innerHTML = docLinkHtml;\n",
              "        element.appendChild(docLink);\n",
              "      }\n",
              "    </script>\n",
              "  </div>\n",
              "\n",
              "\n",
              "<div id=\"df-9f24121d-8863-417e-a3b7-1c4924af1ecb\">\n",
              "  <button class=\"colab-df-quickchart\" onclick=\"quickchart('df-9f24121d-8863-417e-a3b7-1c4924af1ecb')\"\n",
              "            title=\"Suggest charts\"\n",
              "            style=\"display:none;\">\n",
              "\n",
              "<svg xmlns=\"http://www.w3.org/2000/svg\" height=\"24px\"viewBox=\"0 0 24 24\"\n",
              "     width=\"24px\">\n",
              "    <g>\n",
              "        <path d=\"M19 3H5c-1.1 0-2 .9-2 2v14c0 1.1.9 2 2 2h14c1.1 0 2-.9 2-2V5c0-1.1-.9-2-2-2zM9 17H7v-7h2v7zm4 0h-2V7h2v10zm4 0h-2v-4h2v4z\"/>\n",
              "    </g>\n",
              "</svg>\n",
              "  </button>\n",
              "\n",
              "<style>\n",
              "  .colab-df-quickchart {\n",
              "      --bg-color: #E8F0FE;\n",
              "      --fill-color: #1967D2;\n",
              "      --hover-bg-color: #E2EBFA;\n",
              "      --hover-fill-color: #174EA6;\n",
              "      --disabled-fill-color: #AAA;\n",
              "      --disabled-bg-color: #DDD;\n",
              "  }\n",
              "\n",
              "  [theme=dark] .colab-df-quickchart {\n",
              "      --bg-color: #3B4455;\n",
              "      --fill-color: #D2E3FC;\n",
              "      --hover-bg-color: #434B5C;\n",
              "      --hover-fill-color: #FFFFFF;\n",
              "      --disabled-bg-color: #3B4455;\n",
              "      --disabled-fill-color: #666;\n",
              "  }\n",
              "\n",
              "  .colab-df-quickchart {\n",
              "    background-color: var(--bg-color);\n",
              "    border: none;\n",
              "    border-radius: 50%;\n",
              "    cursor: pointer;\n",
              "    display: none;\n",
              "    fill: var(--fill-color);\n",
              "    height: 32px;\n",
              "    padding: 0;\n",
              "    width: 32px;\n",
              "  }\n",
              "\n",
              "  .colab-df-quickchart:hover {\n",
              "    background-color: var(--hover-bg-color);\n",
              "    box-shadow: 0 1px 2px rgba(60, 64, 67, 0.3), 0 1px 3px 1px rgba(60, 64, 67, 0.15);\n",
              "    fill: var(--button-hover-fill-color);\n",
              "  }\n",
              "\n",
              "  .colab-df-quickchart-complete:disabled,\n",
              "  .colab-df-quickchart-complete:disabled:hover {\n",
              "    background-color: var(--disabled-bg-color);\n",
              "    fill: var(--disabled-fill-color);\n",
              "    box-shadow: none;\n",
              "  }\n",
              "\n",
              "  .colab-df-spinner {\n",
              "    border: 2px solid var(--fill-color);\n",
              "    border-color: transparent;\n",
              "    border-bottom-color: var(--fill-color);\n",
              "    animation:\n",
              "      spin 1s steps(1) infinite;\n",
              "  }\n",
              "\n",
              "  @keyframes spin {\n",
              "    0% {\n",
              "      border-color: transparent;\n",
              "      border-bottom-color: var(--fill-color);\n",
              "      border-left-color: var(--fill-color);\n",
              "    }\n",
              "    20% {\n",
              "      border-color: transparent;\n",
              "      border-left-color: var(--fill-color);\n",
              "      border-top-color: var(--fill-color);\n",
              "    }\n",
              "    30% {\n",
              "      border-color: transparent;\n",
              "      border-left-color: var(--fill-color);\n",
              "      border-top-color: var(--fill-color);\n",
              "      border-right-color: var(--fill-color);\n",
              "    }\n",
              "    40% {\n",
              "      border-color: transparent;\n",
              "      border-right-color: var(--fill-color);\n",
              "      border-top-color: var(--fill-color);\n",
              "    }\n",
              "    60% {\n",
              "      border-color: transparent;\n",
              "      border-right-color: var(--fill-color);\n",
              "    }\n",
              "    80% {\n",
              "      border-color: transparent;\n",
              "      border-right-color: var(--fill-color);\n",
              "      border-bottom-color: var(--fill-color);\n",
              "    }\n",
              "    90% {\n",
              "      border-color: transparent;\n",
              "      border-bottom-color: var(--fill-color);\n",
              "    }\n",
              "  }\n",
              "</style>\n",
              "\n",
              "  <script>\n",
              "    async function quickchart(key) {\n",
              "      const quickchartButtonEl =\n",
              "        document.querySelector('#' + key + ' button');\n",
              "      quickchartButtonEl.disabled = true;  // To prevent multiple clicks.\n",
              "      quickchartButtonEl.classList.add('colab-df-spinner');\n",
              "      try {\n",
              "        const charts = await google.colab.kernel.invokeFunction(\n",
              "            'suggestCharts', [key], {});\n",
              "      } catch (error) {\n",
              "        console.error('Error during call to suggestCharts:', error);\n",
              "      }\n",
              "      quickchartButtonEl.classList.remove('colab-df-spinner');\n",
              "      quickchartButtonEl.classList.add('colab-df-quickchart-complete');\n",
              "    }\n",
              "    (() => {\n",
              "      let quickchartButtonEl =\n",
              "        document.querySelector('#df-9f24121d-8863-417e-a3b7-1c4924af1ecb button');\n",
              "      quickchartButtonEl.style.display =\n",
              "        google.colab.kernel.accessAllowed ? 'block' : 'none';\n",
              "    })();\n",
              "  </script>\n",
              "</div>\n",
              "    </div>\n",
              "  </div>\n"
            ]
          },
          "metadata": {},
          "execution_count": 7
        }
      ]
    },
    {
      "cell_type": "code",
      "source": [
        "shifted_df_as_np = shifted_df.to_numpy()\n",
        "\n",
        "shifted_df_as_np"
      ],
      "metadata": {
        "colab": {
          "base_uri": "https://localhost:8080/"
        },
        "id": "3bcDvGYN-2Y4",
        "outputId": "f2c435b7-32ae-43c5-da68-5878aba70206"
      },
      "execution_count": null,
      "outputs": [
        {
          "output_type": "execute_result",
          "data": {
            "text/plain": [
              "array([[340., 338., 358., ..., 374., 370., 382.],\n",
              "       [340., 340., 338., ..., 376., 374., 370.],\n",
              "       [328., 340., 340., ..., 378., 376., 374.],\n",
              "       ...,\n",
              "       [ 87.,  88.,  90., ...,  92.,  88.,  87.],\n",
              "       [ 87.,  87.,  88., ...,  92.,  92.,  88.],\n",
              "       [ 87.,  87.,  87., ...,  90.,  92.,  92.]])"
            ]
          },
          "metadata": {},
          "execution_count": 8
        }
      ]
    },
    {
      "cell_type": "code",
      "source": [
        "shifted_df_as_np.shape"
      ],
      "metadata": {
        "colab": {
          "base_uri": "https://localhost:8080/"
        },
        "id": "53CSWknQ-2oB",
        "outputId": "ff60dffa-69a2-4e94-b094-335fd59edffc"
      },
      "execution_count": null,
      "outputs": [
        {
          "output_type": "execute_result",
          "data": {
            "text/plain": [
              "(346, 8)"
            ]
          },
          "metadata": {},
          "execution_count": 9
        }
      ]
    },
    {
      "cell_type": "code",
      "source": [
        "# Scaling Data Better\n",
        "from sklearn.preprocessing import MinMaxScaler\n",
        "\n",
        "scaler = MinMaxScaler(feature_range=(-1, 1))\n",
        "shifted_df_as_np = scaler.fit_transform(shifted_df_as_np)\n",
        "\n",
        "shifted_df_as_np"
      ],
      "metadata": {
        "colab": {
          "base_uri": "https://localhost:8080/"
        },
        "id": "4sT7YAxb-225",
        "outputId": "acb8856c-9621-40f7-efa8-208453392c34"
      },
      "execution_count": null,
      "outputs": [
        {
          "output_type": "execute_result",
          "data": {
            "text/plain": [
              "array([[ 0.60248447,  0.59006211,  0.71428571, ...,  0.8136646 ,\n",
              "         0.78881988,  0.86335404],\n",
              "       [ 0.60248447,  0.60248447,  0.59006211, ...,  0.82608696,\n",
              "         0.8136646 ,  0.78881988],\n",
              "       [ 0.52795031,  0.60248447,  0.60248447, ...,  0.83850932,\n",
              "         0.82608696,  0.8136646 ],\n",
              "       ...,\n",
              "       [-0.9689441 , -0.96273292, -0.95031056, ..., -0.9378882 ,\n",
              "        -0.96273292, -0.9689441 ],\n",
              "       [-0.9689441 , -0.9689441 , -0.96273292, ..., -0.9378882 ,\n",
              "        -0.9378882 , -0.96273292],\n",
              "       [-0.9689441 , -0.9689441 , -0.9689441 , ..., -0.95031056,\n",
              "        -0.9378882 , -0.9378882 ]])"
            ]
          },
          "metadata": {},
          "execution_count": 10
        }
      ]
    },
    {
      "cell_type": "code",
      "source": [
        "X = shifted_df_as_np[:, 1:]\n",
        "y = shifted_df_as_np[:, 0]\n",
        "\n",
        "X.shape, y.shape"
      ],
      "metadata": {
        "colab": {
          "base_uri": "https://localhost:8080/"
        },
        "id": "fMV4QwCO-3Cg",
        "outputId": "4c4ef5bd-85bb-424b-e53c-bfa0ff1884d3"
      },
      "execution_count": null,
      "outputs": [
        {
          "output_type": "execute_result",
          "data": {
            "text/plain": [
              "((346, 7), (346,))"
            ]
          },
          "metadata": {},
          "execution_count": 11
        }
      ]
    },
    {
      "cell_type": "code",
      "source": [
        "X = dc(np.flip(X, axis=1))\n",
        "X"
      ],
      "metadata": {
        "colab": {
          "base_uri": "https://localhost:8080/"
        },
        "id": "SmAHCwNF-3N7",
        "outputId": "9d3ba288-f856-4075-a597-0d63b1bb465d"
      },
      "execution_count": null,
      "outputs": [
        {
          "output_type": "execute_result",
          "data": {
            "text/plain": [
              "array([[ 0.86335404,  0.78881988,  0.8136646 , ...,  0.83850932,\n",
              "         0.71428571,  0.59006211],\n",
              "       [ 0.78881988,  0.8136646 ,  0.82608696, ...,  0.71428571,\n",
              "         0.59006211,  0.60248447],\n",
              "       [ 0.8136646 ,  0.82608696,  0.83850932, ...,  0.59006211,\n",
              "         0.60248447,  0.60248447],\n",
              "       ...,\n",
              "       [-0.9689441 , -0.96273292, -0.9378882 , ..., -0.95031056,\n",
              "        -0.95031056, -0.96273292],\n",
              "       [-0.96273292, -0.9378882 , -0.9378882 , ..., -0.95031056,\n",
              "        -0.96273292, -0.9689441 ],\n",
              "       [-0.9378882 , -0.9378882 , -0.95031056, ..., -0.96273292,\n",
              "        -0.9689441 , -0.9689441 ]])"
            ]
          },
          "metadata": {},
          "execution_count": 12
        }
      ]
    },
    {
      "cell_type": "code",
      "source": [
        "split_index = int(len(X) * 0.80)\n",
        "\n",
        "split_index"
      ],
      "metadata": {
        "colab": {
          "base_uri": "https://localhost:8080/"
        },
        "id": "HDbC_JXd-3ZH",
        "outputId": "6039413a-b233-4c57-99ca-b7c269d437ac"
      },
      "execution_count": null,
      "outputs": [
        {
          "output_type": "execute_result",
          "data": {
            "text/plain": [
              "276"
            ]
          },
          "metadata": {},
          "execution_count": 13
        }
      ]
    },
    {
      "cell_type": "code",
      "source": [
        "X_train = X[:split_index]\n",
        "X_test = X[split_index:]\n",
        "\n",
        "y_train = y[:split_index]\n",
        "y_test = y[split_index:]\n",
        "\n",
        "X_train.shape, X_test.shape, y_train.shape, y_test.shape"
      ],
      "metadata": {
        "colab": {
          "base_uri": "https://localhost:8080/"
        },
        "id": "dwP-wdzM-3ke",
        "outputId": "50902093-56f1-4310-dc52-55e27b2c9ee5"
      },
      "execution_count": null,
      "outputs": [
        {
          "output_type": "execute_result",
          "data": {
            "text/plain": [
              "((276, 7), (70, 7), (276,), (70,))"
            ]
          },
          "metadata": {},
          "execution_count": 14
        }
      ]
    },
    {
      "cell_type": "code",
      "source": [
        "X_train = X_train.reshape((-1, lookback, 1))\n",
        "X_test = X_test.reshape((-1, lookback, 1))\n",
        "\n",
        "y_train = y_train.reshape((-1, 1))\n",
        "y_test = y_test.reshape((-1, 1))\n",
        "\n",
        "X_train.shape, X_test.shape, y_train.shape, y_test.shape"
      ],
      "metadata": {
        "colab": {
          "base_uri": "https://localhost:8080/"
        },
        "id": "PLF3taEO-3wG",
        "outputId": "531481da-d90a-4d3c-a78b-a023e5ff5648"
      },
      "execution_count": null,
      "outputs": [
        {
          "output_type": "execute_result",
          "data": {
            "text/plain": [
              "((276, 7, 1), (70, 7, 1), (276, 1), (70, 1))"
            ]
          },
          "metadata": {},
          "execution_count": 15
        }
      ]
    },
    {
      "cell_type": "code",
      "source": [
        "X_train = torch.tensor(X_train).float()\n",
        "y_train = torch.tensor(y_train).float()\n",
        "X_test = torch.tensor(X_test).float()\n",
        "y_test = torch.tensor(y_test).float()\n",
        "\n",
        "X_train.shape, X_test.shape, y_train.shape, y_test.shape"
      ],
      "metadata": {
        "colab": {
          "base_uri": "https://localhost:8080/"
        },
        "id": "4V0_ZoH_-388",
        "outputId": "be5dd16f-e185-4413-a7ba-621a6a6ef77c"
      },
      "execution_count": null,
      "outputs": [
        {
          "output_type": "execute_result",
          "data": {
            "text/plain": [
              "(torch.Size([276, 7, 1]),\n",
              " torch.Size([70, 7, 1]),\n",
              " torch.Size([276, 1]),\n",
              " torch.Size([70, 1]))"
            ]
          },
          "metadata": {},
          "execution_count": 16
        }
      ]
    },
    {
      "cell_type": "code",
      "source": [
        "from torch.utils.data import Dataset\n",
        "\n",
        "class TimeSeriesDataset(Dataset):\n",
        "    def __init__(self, X, y):\n",
        "        self.X = X\n",
        "        self.y = y\n",
        "\n",
        "    def __len__(self):\n",
        "        return len(self.X)\n",
        "\n",
        "    def __getitem__(self, i):\n",
        "        return self.X[i], self.y[i]\n",
        "\n",
        "train_dataset = TimeSeriesDataset(X_train, y_train)\n",
        "test_dataset = TimeSeriesDataset(X_test, y_test)"
      ],
      "metadata": {
        "id": "hIVJ0OLI-4JG"
      },
      "execution_count": null,
      "outputs": []
    },
    {
      "cell_type": "code",
      "source": [
        "train_dataset"
      ],
      "metadata": {
        "colab": {
          "base_uri": "https://localhost:8080/"
        },
        "id": "UNboWDDH-4Ut",
        "outputId": "5fcf28ad-bbb8-400f-f5c1-7da0e4229eb8"
      },
      "execution_count": null,
      "outputs": [
        {
          "output_type": "execute_result",
          "data": {
            "text/plain": [
              "<__main__.TimeSeriesDataset at 0x7ef3482595a0>"
            ]
          },
          "metadata": {},
          "execution_count": 18
        }
      ]
    },
    {
      "cell_type": "code",
      "source": [
        "from torch.utils.data import DataLoader\n",
        "\n",
        "batch_size = 16\n",
        "\n",
        "train_loader = DataLoader(train_dataset, batch_size=batch_size, shuffle=True)\n",
        "test_loader = DataLoader(test_dataset, batch_size=batch_size, shuffle=False)"
      ],
      "metadata": {
        "id": "azc0ynCwAyK3"
      },
      "execution_count": null,
      "outputs": []
    },
    {
      "cell_type": "code",
      "source": [
        "for _, batch in enumerate(train_loader):\n",
        "    x_batch, y_batch = batch[0].to(device), batch[1].to(device)\n",
        "    print(x_batch.shape, y_batch.shape)\n",
        "    break"
      ],
      "metadata": {
        "colab": {
          "base_uri": "https://localhost:8080/"
        },
        "id": "aG2ARxn9AzRL",
        "outputId": "cc6567d7-995a-4732-d52c-d132fdd2e885"
      },
      "execution_count": null,
      "outputs": [
        {
          "output_type": "stream",
          "name": "stdout",
          "text": [
            "torch.Size([16, 7, 1]) torch.Size([16, 1])\n"
          ]
        }
      ]
    },
    {
      "cell_type": "code",
      "source": [
        "import torch\n",
        "import torch.nn as nn\n",
        "\n",
        "class GRUModel(nn.Module):\n",
        "    def __init__(self, input_size, hidden_size, num_stacked_layers, output_size):\n",
        "        super().__init__()\n",
        "        self.hidden_size = hidden_size\n",
        "        self.num_stacked_layers = num_stacked_layers\n",
        "\n",
        "        self.gru = nn.GRU(input_size, hidden_size, num_stacked_layers,\n",
        "                            batch_first=True)\n",
        "\n",
        "        self.fc = nn.Linear(hidden_size, output_size)\n",
        "\n",
        "    def forward(self, x):\n",
        "        batch_size = x.size(0)\n",
        "        h0 = torch.zeros(self.num_stacked_layers, batch_size, self.hidden_size).to(x.device)\n",
        "\n",
        "        out, _ = self.gru(x, h0)\n",
        "        out = self.fc(out[:, -1, :])\n",
        "        return out\n",
        "\n",
        "# Buat model GRU Anda\n",
        "input_size = 1\n",
        "hidden_size = 4\n",
        "num_layers = 2\n",
        "output_size = 1\n",
        "\n",
        "device = torch.device(\"cuda\" if torch.cuda.is_available() else \"cpu\")  # Choose the appropriate device\n",
        "\n",
        "model = GRUModel(input_size, hidden_size, num_layers, output_size)\n",
        "model.to(device)\n",
        "\n",
        "# Cetak model\n",
        "print(model)\n",
        "\n",
        "# Hitung jumlah parameter\n",
        "total_params = sum(p.numel() for p in model.parameters())\n",
        "print(f\"Total Parameters: {total_params}\")"
      ],
      "metadata": {
        "colab": {
          "base_uri": "https://localhost:8080/"
        },
        "id": "bk_Cb9WsAymS",
        "outputId": "9e9600b4-5d6d-4839-acc0-63936f7ae1a2"
      },
      "execution_count": null,
      "outputs": [
        {
          "output_type": "stream",
          "name": "stdout",
          "text": [
            "GRUModel(\n",
            "  (gru): GRU(1, 4, num_layers=2, batch_first=True)\n",
            "  (fc): Linear(in_features=4, out_features=1, bias=True)\n",
            ")\n",
            "Total Parameters: 209\n"
          ]
        }
      ]
    },
    {
      "cell_type": "code",
      "source": [
        "learning_rate = 0.001\n",
        "num_epochs = 10\n",
        "loss_function = nn.MSELoss()\n",
        "optimizer = torch.optim.Adam(model.parameters(), lr=learning_rate)\n",
        "\n",
        "train_losses = []\n",
        "val_losses = []\n",
        "\n",
        "for epoch in range(num_epochs):\n",
        "    # Training\n",
        "    model.train(True)\n",
        "    print(f'Epoch: {epoch + 1}')\n",
        "    running_loss = 0.0\n",
        "\n",
        "    for batch_index, batch in enumerate(train_loader):\n",
        "        x_batch, y_batch = batch[0].to(device), batch[1].to(device)\n",
        "\n",
        "        optimizer.zero_grad()\n",
        "        output = model(x_batch)\n",
        "        loss = loss_function(output, y_batch)\n",
        "        loss.backward()\n",
        "        optimizer.step()\n",
        "\n",
        "        running_loss += loss.item()\n",
        "\n",
        "        if batch_index % 100 == 99:  # print every 100 batches\n",
        "            avg_loss_across_batches = running_loss / 100\n",
        "            print('Batch {0}, Loss: {1:.3f}'.format(batch_index + 1, avg_loss_across_batches))\n",
        "            running_loss = 0.0\n",
        "\n",
        "    train_loss = running_loss / len(train_loader)\n",
        "    train_losses.append(train_loss)\n",
        "\n",
        "    # Validation\n",
        "    model.eval()\n",
        "    running_loss = 0.0\n",
        "\n",
        "    with torch.no_grad():\n",
        "        for batch_index, batch in enumerate(test_loader):\n",
        "            x_batch, y_batch = batch[0].to(device), batch[1].to(device)\n",
        "\n",
        "            output = model(x_batch)\n",
        "            loss = loss_function(output, y_batch)\n",
        "            running_loss += loss.item()\n",
        "\n",
        "    val_loss = running_loss / len(test_loader)\n",
        "    val_losses.append(val_loss)\n",
        "\n",
        "    print(f'Val Loss: {val_loss:.3f}')\n",
        "    print('***************************************************')\n",
        "    print()\n",
        "\n",
        "# Plot loss function\n",
        "plt.plot(range(1, num_epochs + 1), train_losses, label='Train Loss')\n",
        "plt.plot(range(1, num_epochs + 1), val_losses, label='Val Loss')\n",
        "plt.xlabel('Epoch')\n",
        "plt.ylabel('Loss')\n",
        "plt.title('Training and Validation Loss over Epochs')\n",
        "plt.legend()\n",
        "plt.show()"
      ],
      "metadata": {
        "colab": {
          "base_uri": "https://localhost:8080/",
          "height": 1000
        },
        "id": "wyNCJBokPxB0",
        "outputId": "a55e3ba3-8556-42e5-f659-2f536d99bad3"
      },
      "execution_count": null,
      "outputs": [
        {
          "output_type": "stream",
          "name": "stdout",
          "text": [
            "Epoch: 1\n",
            "Val Loss: 0.175\n",
            "***************************************************\n",
            "\n",
            "Epoch: 2\n",
            "Val Loss: 0.181\n",
            "***************************************************\n",
            "\n",
            "Epoch: 3\n",
            "Val Loss: 0.166\n",
            "***************************************************\n",
            "\n",
            "Epoch: 4\n",
            "Val Loss: 0.128\n",
            "***************************************************\n",
            "\n",
            "Epoch: 5\n",
            "Val Loss: 0.080\n",
            "***************************************************\n",
            "\n",
            "Epoch: 6\n",
            "Val Loss: 0.038\n",
            "***************************************************\n",
            "\n",
            "Epoch: 7\n",
            "Val Loss: 0.016\n",
            "***************************************************\n",
            "\n",
            "Epoch: 8\n",
            "Val Loss: 0.006\n",
            "***************************************************\n",
            "\n",
            "Epoch: 9\n",
            "Val Loss: 0.003\n",
            "***************************************************\n",
            "\n",
            "Epoch: 10\n",
            "Val Loss: 0.003\n",
            "***************************************************\n",
            "\n"
          ]
        },
        {
          "output_type": "display_data",
          "data": {
            "text/plain": [
              "<Figure size 640x480 with 1 Axes>"
            ],
            "image/png": "[encoded data removed]"
          },
          "metadata": {}
        }
      ]
    },
    {
      "cell_type": "code",
      "source": [
        "with torch.no_grad():\n",
        "    predicted = model(X_train.to(device)).to('cpu').numpy()\n",
        "\n",
        "plt.plot(y_train, label='Actual Close')\n",
        "plt.plot(predicted, label='Predicted Close')\n",
        "plt.xlabel('Day')\n",
        "plt.ylabel('Close')\n",
        "plt.legend()\n",
        "plt.show()\n"
      ],
      "metadata": {
        "colab": {
          "base_uri": "https://localhost:8080/",
          "height": 449
        },
        "id": "B8ZhFLBEAwuf",
        "outputId": "933799cd-8576-4222-e528-ced5bc4d7743"
      },
      "execution_count": null,
      "outputs": [
        {
          "output_type": "display_data",
          "data": {
            "text/plain": [
              "<Figure size 640x480 with 1 Axes>"
            ],
            "image/png": "[encoded data removed]"
          },
          "metadata": {}
        }
      ]
    },
    {
      "cell_type": "code",
      "source": [
        "train_predictions = predicted.flatten()\n",
        "\n",
        "dummies = np.zeros((X_train.shape[0], lookback+1))\n",
        "dummies[:, 0] = train_predictions\n",
        "dummies = scaler.inverse_transform(dummies)\n",
        "\n",
        "train_predictions = dc(dummies[:, 0])\n",
        "train_predictions"
      ],
      "metadata": {
        "colab": {
          "base_uri": "https://localhost:8080/"
        },
        "id": "gv0Z4yAWAw6O",
        "outputId": "b4a6d102-4cea-4d22-ef97-66a6ec644dd1"
      },
      "execution_count": null,
      "outputs": [
        {
          "output_type": "execute_result",
          "data": {
            "text/plain": [
              "array([329.93291175, 328.06319773, 326.60042644, 324.62682235,\n",
              "       321.5747951 , 316.8990514 , 311.01150969, 303.6585193 ,\n",
              "       293.60250643, 280.12961796, 263.44839212, 244.11945716,\n",
              "       226.25853309, 219.01368394, 224.43689197, 239.84846821,\n",
              "       258.00858721, 275.36465701, 289.85687914, 300.18729958,\n",
              "       305.31036744, 307.14204153, 309.86250058, 314.06328264,\n",
              "       316.53240374, 319.81661943, 323.29371211, 326.61814129,\n",
              "       329.758834  , 331.383726  , 332.8830018 , 334.85779583,\n",
              "       335.54170835, 334.91610324, 334.11100805, 333.66295457,\n",
              "       333.44790041, 333.12367821, 333.14271736, 333.49542153,\n",
              "       334.25514519, 334.74321544, 334.92209136, 334.41290915,\n",
              "       332.87378931, 330.43305421, 327.44467473, 325.25601649,\n",
              "       324.09919596, 322.70271143, 321.2846975 , 320.16304758,\n",
              "       319.78955773, 319.22711578, 316.71161553, 313.60879001,\n",
              "       311.48092464, 309.46328291, 308.30685583, 306.50024739,\n",
              "       304.6475189 , 303.89256462, 303.86768129, 303.2034317 ,\n",
              "       302.06349114, 300.11904076, 299.4599252 , 299.67860678,\n",
              "       299.92045394, 298.34754536, 296.79686192, 295.64974329,\n",
              "       295.89017019, 295.83288959, 296.11021444, 298.89383665,\n",
              "       303.96165833, 308.93054166, 312.26751807, 314.21364781,\n",
              "       316.04950592, 317.36654708, 316.91137311, 316.07104972,\n",
              "       315.54369202, 314.32185623, 311.59314433, 307.95182934,\n",
              "       304.06111488, 300.60436645, 297.22956124, 294.18685684,\n",
              "       292.65090379, 291.64103213, 290.72342935, 289.43784502,\n",
              "       287.38444731, 283.16738024, 276.9751353 , 273.37062231,\n",
              "       271.43004885, 270.46609572, 270.32358995, 270.0210363 ,\n",
              "       270.4256855 , 271.28877142, 268.99087796, 266.20091256,\n",
              "       262.17974535, 257.69423005, 254.63787004, 253.07644349,\n",
              "       251.30303842, 250.55334774, 248.35114905, 244.54411954,\n",
              "       238.56351724, 229.83806679, 220.89641541, 212.91781272,\n",
              "       205.93635213, 201.95220283, 199.09668478, 195.40414929,\n",
              "       192.60533607, 189.73355222, 188.01040322, 185.8009209 ,\n",
              "       182.57494545, 179.59472287, 179.26616311, 180.22552919,\n",
              "       181.61008066, 182.77527401, 184.23716724, 186.11736047,\n",
              "       186.54919133, 187.9497399 , 189.40625438, 191.03222117,\n",
              "       194.99549842, 199.60205245, 204.48893499, 209.07987577,\n",
              "       207.3789615 , 203.90077484, 198.84025598, 191.34321481,\n",
              "       183.11622745, 172.51621681, 162.29358256, 152.77307469,\n",
              "       143.38298118, 134.40580893, 126.24528587, 119.55037463,\n",
              "       114.03766626, 109.47595596, 105.68319142, 103.74662924,\n",
              "       102.51202071, 101.93748736, 101.69057333, 101.37794352,\n",
              "       100.83586502, 100.50490618,  99.94042981,  99.47594738,\n",
              "        98.71768236,  98.56295085,  98.74846745,  99.47303009,\n",
              "        99.80796182, 100.06143975, 100.45874774, 101.01349342,\n",
              "       101.04306936, 101.15860939, 101.01978862, 101.1488595 ,\n",
              "       101.19014299, 101.3606509 , 102.10312033, 103.2369864 ,\n",
              "       104.74879503, 106.32010102, 107.70562172, 108.83994842,\n",
              "       110.05949068, 110.83910757, 111.24113697, 111.39207792,\n",
              "       111.23467863, 110.85069996, 110.57042903, 111.07720256,\n",
              "       112.04078144, 112.7374475 , 113.33755511, 113.77073425,\n",
              "       113.39054614, 112.12161148, 111.16683245, 110.97680557,\n",
              "       111.17214882, 111.51407629, 112.34274971, 113.24627465,\n",
              "       114.09964907, 113.89758837, 113.37213075, 113.2398355 ,\n",
              "       113.01768005, 112.66921747, 112.81953466, 113.0564301 ,\n",
              "       113.70503765, 114.71551389, 115.70701814, 116.81324673,\n",
              "       117.71625346, 117.90208673, 117.97699583, 117.43885183,\n",
              "       116.60151291, 115.46234965, 114.2327888 , 112.53550196,\n",
              "       111.15278339, 110.38211989, 110.1676991 , 110.32321751,\n",
              "       110.56456566, 110.42023659, 110.14750838, 109.76324183,\n",
              "       109.27733076, 108.67441142, 107.53883719, 105.94509494,\n",
              "       104.84988296, 103.75039101, 102.5861429 , 101.63710248,\n",
              "       100.97729599, 100.81684506, 100.96528137, 101.25311422,\n",
              "       102.09690189, 102.95700336, 103.4348439 , 104.35242748,\n",
              "       105.07121313, 105.64902842, 106.214522  , 107.31055927,\n",
              "       108.45761073, 109.54228592, 110.20988464, 110.95511782,\n",
              "       111.21473742, 111.30851293, 110.99987519, 110.87639898,\n",
              "       110.73374927, 110.3193022 , 109.27444226, 108.60401261,\n",
              "       108.13429058, 110.97771722, 113.11007369, 113.9876405 ,\n",
              "       114.01593053, 114.72721183, 115.68692338, 116.47000456])"
            ]
          },
          "metadata": {},
          "execution_count": 24
        }
      ]
    },
    {
      "cell_type": "code",
      "source": [
        "dummies = np.zeros((X_train.shape[0], lookback+1))\n",
        "dummies[:, 0] = y_train.flatten()\n",
        "dummies = scaler.inverse_transform(dummies)\n",
        "\n",
        "new_y_train = dc(dummies[:, 0])\n",
        "new_y_train"
      ],
      "metadata": {
        "colab": {
          "base_uri": "https://localhost:8080/"
        },
        "id": "xUcYs7xrCPQE",
        "outputId": "1b732735-c4d9-4231-bc88-2e4c9d320c5f"
      },
      "execution_count": null,
      "outputs": [
        {
          "output_type": "execute_result",
          "data": {
            "text/plain": [
              "array([339.99999881, 339.99999881, 327.99999619, 310.00000185,\n",
              "       289.99999908, 271.99999994, 253.99999961, 237.99999991,\n",
              "       222.00000021, 208.00000115, 194.00000209, 199.9999986 ,\n",
              "       248.00000009, 280.00000009, 304.00000054, 296.00000039,\n",
              "       302.0000017 , 304.00000054, 312.00000069, 313.99999952,\n",
              "       304.00000054, 343.99999648, 353.99999547, 329.99999982,\n",
              "       364.00000405, 378.00000072, 384.00000203, 385.99999607,\n",
              "       387.9999997 , 400.00000232, 404.        , 391.99999738,\n",
              "       365.99999809, 369.99999577, 378.00000072, 380.00000435,\n",
              "       380.00000435, 391.99999738, 394.00000101, 391.99999738,\n",
              "       390.00000334, 387.9999997 , 369.99999577, 346.00000012,\n",
              "       333.9999975 , 323.99999851, 338.00000477, 349.99999779,\n",
              "       338.00000477, 329.99999982, 323.99999851, 332.00000346,\n",
              "       320.00000083, 297.99999923, 302.0000017 , 307.99999821,\n",
              "       299.99999806, 307.99999821, 299.99999806, 291.99999791,\n",
              "       294.00000155, 305.99999937, 296.00000039, 286.0000014 ,\n",
              "       286.0000014 , 296.00000039, 296.00000039, 296.00000039,\n",
              "       281.99999893, 280.00000009, 280.00000009, 296.00000039,\n",
              "       291.99999791, 294.00000155, 323.99999851, 333.9999975 ,\n",
              "       333.9999975 , 320.00000083, 326.00000215, 327.99999619,\n",
              "       326.00000215, 318.000002  , 320.00000083, 323.99999851,\n",
              "       302.0000017 , 289.99999908, 283.99999776, 281.99999893,\n",
              "       281.99999893, 281.99999893, 286.0000014 , 281.99999893,\n",
              "       277.99999885, 276.00000001, 271.99999994, 266.00000103,\n",
              "       248.00000009, 241.99999998, 266.00000103, 263.99999979,\n",
              "       263.99999979, 263.99999979, 255.99999964, 252.00000017,\n",
              "       257.99999968, 250.00000013, 246.00000006, 237.99999991,\n",
              "       237.99999991, 241.99999998, 246.00000006, 244.00000002,\n",
              "       241.99999998, 228.00000032, 218.00000013, 211.99999882,\n",
              "       202.00000224, 208.00000115, 205.99999991, 204.00000107,\n",
              "       205.99999991, 199.9999986 , 189.99999961, 193.00000027,\n",
              "       196.99999794, 197.99999976, 188.99999779, 186.00000194,\n",
              "       183.9999983 , 194.99999911, 199.9999986 , 199.9999986 ,\n",
              "       196.99999794, 194.00000209, 199.00000158, 188.00000077,\n",
              "       209.99999999, 204.00000107, 204.00000107, 218.00000013,\n",
              "       214.00000006, 222.00000021, 209.99999999, 196.00000092,\n",
              "       191.00000143, 188.00000077, 185.00000012, 173.00000229,\n",
              "       162.00000149, 150.99999589, 140.9999969 , 132.00000453,\n",
              "       123.00000256, 114.99999762, 107.00000226, 100.00000393,\n",
              "        92.99999601,  87.00000429, 100.00000393,  94.00000262,\n",
              "        97.00000328,  95.99999666,  91.99999899,  87.00000429,\n",
              "        88.99999833,  88.99999833,  85.99999768,  82.        ,\n",
              "        91.00000197,  91.00000197,  97.00000328,  91.00000197,\n",
              "        92.99999601,  94.99999964,  95.99999666,  91.99999899,\n",
              "        94.99999964,  92.99999601,  94.99999964,  94.00000262,\n",
              "        97.00000328, 104.99999863, 107.00000226, 114.0000006 ,\n",
              "       114.0000006 , 114.99999762, 114.0000006 , 118.99999529,\n",
              "       117.00000125, 114.99999762, 117.00000125, 113.00000358,\n",
              "       111.99999696, 113.00000358, 123.99999958, 123.99999958,\n",
              "       120.00000191, 123.00000256, 120.00000191, 111.99999696,\n",
              "       104.99999863, 116.00000423, 118.99999529, 117.99999827,\n",
              "       120.99999893, 124.9999966 , 121.99999595, 120.99999893,\n",
              "       116.00000423, 116.00000423, 120.00000191, 117.99999827,\n",
              "       117.99999827, 121.99999595, 120.99999893, 123.99999958,\n",
              "       127.99999726, 129.00000387, 130.00000089, 129.00000387,\n",
              "       124.9999966 , 126.00000322, 120.99999893, 120.99999893,\n",
              "       117.00000125, 116.00000423, 107.99999928, 110.00000292,\n",
              "       114.99999762, 114.99999762, 117.99999827, 116.00000423,\n",
              "       111.99999696, 108.9999963 , 110.00000292, 110.00000292,\n",
              "       107.00000226, 101.00000095,  94.00000262,  98.99999732,\n",
              "        92.99999601,  91.00000197,  91.99999899,  91.99999899,\n",
              "        94.99999964,  94.99999964,  98.99999732, 104.00000161,\n",
              "       103.00000459, 100.00000393, 108.9999963 , 105.99999565,\n",
              "       105.99999565, 108.9999963 , 117.99999827, 116.00000423,\n",
              "       116.00000423, 117.00000125, 117.99999827, 113.00000358,\n",
              "       114.99999762, 114.0000006 , 114.99999762, 114.0000006 ,\n",
              "       110.99999994, 104.00000161, 107.99999928, 108.9999963 ,\n",
              "       146.99999821, 124.9999966 , 118.99999529, 116.00000423,\n",
              "       124.9999966 , 127.00000024, 123.99999958, 120.99999893])"
            ]
          },
          "metadata": {},
          "execution_count": 25
        }
      ]
    },
    {
      "cell_type": "code",
      "source": [
        "plt.plot(new_y_train, label='Actual Close')\n",
        "plt.plot(train_predictions, label='Predicted Close')\n",
        "plt.xlabel('Day')\n",
        "plt.ylabel('Close')\n",
        "plt.legend()\n",
        "plt.show()\n"
      ],
      "metadata": {
        "colab": {
          "base_uri": "https://localhost:8080/",
          "height": 449
        },
        "id": "qaKlHp4ICPem",
        "outputId": "cad27fa3-ed10-428b-d5fb-1a044ab110a9"
      },
      "execution_count": null,
      "outputs": [
        {
          "output_type": "display_data",
          "data": {
            "text/plain": [
              "<Figure size 640x480 with 1 Axes>"
            ],
            "image/png": "[encoded data removed]"
          },
          "metadata": {}
        }
      ]
    },
    {
      "cell_type": "code",
      "source": [
        "from sklearn.metrics import mean_absolute_error, mean_squared_error\n",
        "\n",
        "# Calculate Mean Absolute Error (MAE)\n",
        "mae = mean_absolute_error(new_y_train, train_predictions)\n",
        "print(f\"Mean Absolute Error (MAE): {mae:.2f}\")\n",
        "\n",
        "# Calculate Mean Squared Error (MSE)\n",
        "mse = mean_squared_error(new_y_train, train_predictions)\n",
        "print(f\"Mean Squared Error (MSE): {mse:.2f}\")\n",
        "\n",
        "# Calculate Mean Absolute Deviation (MAD)\n",
        "mad = np.mean(np.abs(np.array(new_y_train) - np.array(train_predictions)))\n",
        "print(f\"Mean Absolute Deviation (MAD): {mad:.2f}\")\n",
        "\n",
        "# Calculate Mean Absolute Percentage Error (MAPE)\n",
        "mape = np.mean(np.abs((np.array(new_y_train) - np.array(train_predictions)) / np.array(new_y_train)) * 100)\n",
        "print(f\"Mean Absolute Percentage Error (MAPE): {mape:.2f}%\")\n"
      ],
      "metadata": {
        "colab": {
          "base_uri": "https://localhost:8080/"
        },
        "id": "t60s0HapNdJg",
        "outputId": "be9b4f0b-3fa2-4f09-9935-5baa348f015f"
      },
      "execution_count": null,
      "outputs": [
        {
          "output_type": "stream",
          "name": "stdout",
          "text": [
            "Mean Absolute Error (MAE): 16.02\n",
            "Mean Squared Error (MSE): 532.21\n",
            "Mean Absolute Deviation (MAD): 16.02\n",
            "Mean Absolute Percentage Error (MAPE): 7.72%\n"
          ]
        }
      ]
    },
    {
      "cell_type": "code",
      "source": [
        "test_predictions = model(X_test.to(device)).detach().cpu().numpy().flatten()\n",
        "\n",
        "dummies = np.zeros((X_test.shape[0], lookback+1))\n",
        "dummies[:, 0] = test_predictions\n",
        "dummies = scaler.inverse_transform(dummies)\n",
        "\n",
        "test_predictions = dc(dummies[:, 0])\n",
        "test_predictions"
      ],
      "metadata": {
        "colab": {
          "base_uri": "https://localhost:8080/"
        },
        "id": "jFROJCsACPrW",
        "outputId": "6f570576-2bbd-4161-df5b-76ca842a2aff"
      },
      "execution_count": null,
      "outputs": [
        {
          "output_type": "execute_result",
          "data": {
            "text/plain": [
              "array([115.20094514, 114.4803074 , 113.84095073, 113.44331646,\n",
              "       112.8131243 , 112.33906472, 112.12287819, 111.8254298 ,\n",
              "       111.4783299 , 111.152246  , 110.54045963, 110.06158268,\n",
              "       109.440651  , 108.84623402, 108.67020822, 108.39864117,\n",
              "       108.03479564, 107.67652559, 107.39019936, 107.38281977,\n",
              "       107.74757695, 108.50921029, 109.2677536 , 109.75515211,\n",
              "       110.05927956, 110.01559699, 110.09373045, 110.04136318,\n",
              "       109.66952389, 109.38861001, 109.32066786, 109.29335666,\n",
              "       109.09663153, 108.71498477, 108.31980717, 108.10035789,\n",
              "       107.57837415, 106.12909532, 104.65181434, 103.28466105,\n",
              "       102.12649703, 101.64015412, 101.15999126, 100.77488983,\n",
              "       100.41387522,  99.96307719,  99.517941  ,  99.05700922,\n",
              "        98.45499194,  98.10002303,  98.23329711,  98.60745871,\n",
              "        99.27617061,  99.93720543, 100.36002052, 100.45444858,\n",
              "       100.46481264, 100.53281236, 100.63027287, 100.33188403,\n",
              "        99.92628479,  99.51588738,  99.28582454,  99.36558938,\n",
              "        99.4903419 ,  99.51732683,  99.56713188,  99.47598577,\n",
              "        99.30332828,  99.10689104])"
            ]
          },
          "metadata": {},
          "execution_count": 28
        }
      ]
    },
    {
      "cell_type": "code",
      "source": [
        "dummies = np.zeros((X_test.shape[0], lookback+1))\n",
        "dummies[:, 0] = y_test.flatten()\n",
        "dummies = scaler.inverse_transform(dummies)\n",
        "\n",
        "new_y_test = dc(dummies[:, 0])\n",
        "new_y_test"
      ],
      "metadata": {
        "colab": {
          "base_uri": "https://localhost:8080/"
        },
        "id": "BG-ilZlGCP4C",
        "outputId": "8dbeb826-252c-4380-9dc7-100f56f36aee"
      },
      "execution_count": null,
      "outputs": [
        {
          "output_type": "execute_result",
          "data": {
            "text/plain": [
              "array([116.00000423, 116.00000423, 117.00000125, 117.00000125,\n",
              "       117.99999827, 117.99999827, 114.99999762, 113.00000358,\n",
              "       114.0000006 , 110.00000292, 111.99999696, 108.9999963 ,\n",
              "       108.9999963 , 111.99999696, 107.99999928, 107.99999928,\n",
              "       105.99999565, 107.99999928, 108.9999963 , 113.00000358,\n",
              "       117.99999827, 114.99999762, 114.0000006 , 113.00000358,\n",
              "       110.99999994, 114.0000006 , 113.00000358, 110.99999994,\n",
              "       110.99999994, 113.00000358, 111.99999696, 108.9999963 ,\n",
              "       108.9999963 , 107.99999928, 108.9999963 , 104.00000161,\n",
              "        92.99999601,  94.00000262,  91.00000197,  91.00000197,\n",
              "        97.00000328,  92.99999601,  91.99999899,  88.00000131,\n",
              "        88.00000131,  85.99999768,  85.00000066,  84.00000364,\n",
              "        85.00000066,  91.00000197,  91.00000197,  95.99999666,\n",
              "        94.99999964,  92.99999601,  89.99999535,  91.00000197,\n",
              "        94.00000262,  92.99999601,  88.99999833,  88.00000131,\n",
              "        87.00000429,  88.00000131,  91.99999899,  91.99999899,\n",
              "        89.99999535,  89.99999535,  88.00000131,  87.00000429,\n",
              "        87.00000429,  87.00000429])"
            ]
          },
          "metadata": {},
          "execution_count": 29
        }
      ]
    },
    {
      "cell_type": "code",
      "source": [
        "plt.plot(new_y_test, label='Actual Close')\n",
        "plt.plot(test_predictions, label='Predicted Close')\n",
        "plt.xlabel('Day')\n",
        "plt.ylabel('Close')\n",
        "plt.legend()\n",
        "plt.show()\n"
      ],
      "metadata": {
        "colab": {
          "base_uri": "https://localhost:8080/",
          "height": 449
        },
        "id": "EvAeM3NsCQEy",
        "outputId": "28955af6-0cab-42db-f997-682522eebc59"
      },
      "execution_count": null,
      "outputs": [
        {
          "output_type": "display_data",
          "data": {
            "text/plain": [
              "<Figure size 640x480 with 1 Axes>"
            ],
            "image/png": "[encoded data removed]"
          },
          "metadata": {}
        }
      ]
    },
    {
      "cell_type": "code",
      "source": [
        "from sklearn.metrics import mean_absolute_error, mean_squared_error\n",
        "\n",
        "# Calculate Mean Absolute Error (MAE)\n",
        "mae = mean_absolute_error(new_y_test, test_predictions)\n",
        "print(f\"Mean Absolute Error (MAE): {mae:.2f}\")\n",
        "\n",
        "# Calculate Mean Squared Error (MSE)\n",
        "mse = mean_squared_error(new_y_test, test_predictions)\n",
        "print(f\"Mean Squared Error (MSE): {mse:.2f}\")\n",
        "\n",
        "# Calculate Mean Absolute Deviation (MAD)\n",
        "mad = np.mean(np.abs(np.array(new_y_test) - np.array(test_predictions)))\n",
        "print(f\"Mean Absolute Deviation (MAD): {mad:.2f}\")\n",
        "\n",
        "# Calculate Mean Absolute Percentage Error (MAPE)\n",
        "mape = np.mean(np.abs((np.array(new_y_test) - np.array(test_predictions)) / np.array(new_y_test))) * 100\n",
        "print(f\"Mean Absolute Percentage Error (MAPE): {mape:.2f}%\")\n"
      ],
      "metadata": {
        "colab": {
          "base_uri": "https://localhost:8080/"
        },
        "id": "g80J7HnyCQe7",
        "outputId": "22f6d550-3838-49ac-c2a3-22b85ae0d7a3"
      },
      "execution_count": null,
      "outputs": [
        {
          "output_type": "stream",
          "name": "stdout",
          "text": [
            "Mean Absolute Error (MAE): 6.31\n",
            "Mean Squared Error (MSE): 62.09\n",
            "Mean Absolute Deviation (MAD): 6.31\n",
            "Mean Absolute Percentage Error (MAPE): 6.75%\n"
          ]
        }
      ]
    },
    {
      "cell_type": "code",
      "source": [
        "# Fungsi untuk melakukan prediksi 10 hari ke depan setelah pelatihan\n",
        "def predict_future(model, initial_sequence, num_steps=10):\n",
        "    current_sequence = initial_sequence\n",
        "\n",
        "    # Model di set ke mode evaluasi\n",
        "    model.eval()\n",
        "\n",
        "    # Melakukan prediksi 10 hari ke depan\n",
        "    predictions = []\n",
        "\n",
        "    for _ in range(num_steps):\n",
        "        with torch.no_grad():\n",
        "            # Menggunakan model untuk mendapatkan prediksi berikutnya\n",
        "            prediction = model(current_sequence)\n",
        "            predictions.append(prediction.cpu().numpy())\n",
        "\n",
        "            # Memperbarui urutan saat ini dengan menambahkan prediksi ke belakang\n",
        "            current_sequence = torch.cat([current_sequence[:, 1:], prediction.unsqueeze(1)], dim=1)\n",
        "\n",
        "    return predictions\n",
        "\n",
        "# Menggunakan model yang telah dilatih untuk membuat prediksi 10 hari ke depan\n",
        "model.eval()\n",
        "with torch.no_grad():\n",
        "    # Mengambil urutan terakhir dari data pelatihan sebagai awal prediksi\n",
        "    initial_sequence = x_batch[:, -1:, :].to(device)\n",
        "    predictions = predict_future(model, initial_sequence, num_steps=10)\n",
        "\n",
        "# Visualisasi hasil prediksi\n",
        "actual_data = x_batch[0, :, 0].cpu().numpy()\n",
        "predicted_data = np.concatenate(predictions).flatten()\n",
        "\n",
        "# Sumbu x untuk data aktual\n",
        "x_actual = range(len(actual_data))\n",
        "\n",
        "# Sumbu x untuk data prediksi (10 hari ke depan)\n",
        "x_predicted = range(len(x_actual), len(x_actual) + len(predicted_data))\n",
        "\n",
        "plt.plot(x_actual, actual_data, label='Actual Data')\n",
        "plt.plot(x_predicted, predicted_data, label='Predicted Data')\n",
        "plt.xlabel('Time Steps')\n",
        "plt.ylabel('Values')\n",
        "plt.title('GRU Time Series Prediction for Next 10 Days')\n",
        "plt.legend()\n",
        "plt.show()"
      ],
      "metadata": {
        "id": "UBGrb4e1IN8x",
        "colab": {
          "base_uri": "https://localhost:8080/",
          "height": 472
        },
        "outputId": "ad94ab75-dc9c-42e6-aedc-900cfdb926c9"
      },
      "execution_count": null,
      "outputs": [
        {
          "output_type": "display_data",
          "data": {
            "text/plain": [
              "<Figure size 640x480 with 1 Axes>"
            ],
            "image/png": "[encoded data removed]"
          },
          "metadata": {}
        }
      ]
    },
    {
      "cell_type": "code",
      "source": [
        "# Menggunakan model yang telah dilatih untuk membuat prediksi 10 hari ke depan\n",
        "model.eval()\n",
        "with torch.no_grad():\n",
        "    # Mengambil urutan terakhir dari data pelatihan sebagai awal prediksi\n",
        "    initial_sequence = x_batch[:, -1:, :].to(device)\n",
        "    predictions = predict_future(model, initial_sequence, num_steps=10)\n",
        "\n",
        "# Visualisasi hasil prediksi\n",
        "actual_data = x_batch[0, :, 0].cpu().numpy()\n",
        "predicted_data = np.concatenate(predictions).flatten()\n",
        "\n",
        "# Sumbu x untuk data aktual\n",
        "x_actual = range(len(actual_data))\n",
        "\n",
        "# Sumbu x untuk data prediksi (10 hari ke depan)\n",
        "x_predicted = range(len(x_actual), len(x_actual) + len(predicted_data))\n",
        "\n",
        "plt.plot(x_actual, actual_data, label='Actual Data')\n",
        "plt.plot(x_predicted, predicted_data, label='Predicted Data')\n",
        "plt.xlabel('Time Steps')\n",
        "plt.ylabel('Values')\n",
        "plt.title('GRU Time Series Prediction for Next 10 Days')\n",
        "plt.legend()\n",
        "plt.show()\n"
      ],
      "metadata": {
        "colab": {
          "base_uri": "https://localhost:8080/",
          "height": 472
        },
        "id": "-GWwaVeTwEdr",
        "outputId": "a32bd202-1c5b-4acd-d7d3-3d11431c9f42"
      },
      "execution_count": null,
      "outputs": [
        {
          "output_type": "display_data",
          "data": {
            "text/plain": [
              "<Figure size 640x480 with 1 Axes>"
            ],
            "image/png": "[encoded data removed]"
          },
          "metadata": {}
        }
      ]
    },
    {
      "cell_type": "code",
      "source": [
        "import pandas as pd\n",
        "from datetime import timedelta\n",
        "\n",
        "# Fungsi untuk membaca dataset\n",
        "def read_data():\n",
        "    # Gantilah ini dengan cara membaca dataset Anda\n",
        "    # Sebagai contoh, kita membuat dataset dummy di sini\n",
        "    data = pd.DataFrame({\n",
        "        'timestamp': pd.date_range(start='2023-01-01', periods=100, freq='D'),\n",
        "        'value': np.sin(np.linspace(0, 2*np.pi, 100)) + np.random.normal(0, 0.2, 100)\n",
        "    })\n",
        "    return data\n",
        "\n",
        "# Fungsi untuk membuat prediksi berdasarkan model GRU yang telah dilatih\n",
        "def predict_future_with_dates(model, initial_sequence, num_steps=10):\n",
        "    current_sequence = initial_sequence\n",
        "\n",
        "    # Model di set ke mode evaluasi\n",
        "    model.eval()\n",
        "\n",
        "    # Melakukan prediksi 10 hari ke depan\n",
        "    predictions = []\n",
        "\n",
        "    for _ in range(num_steps):\n",
        "        with torch.no_grad():\n",
        "            # Menggunakan model untuk mendapatkan prediksi berikutnya\n",
        "            prediction = model(current_sequence)\n",
        "            predictions.append(prediction.item())\n",
        "\n",
        "            # Memperbarui urutan saat ini dengan menambahkan prediksi ke belakang\n",
        "            current_sequence = torch.cat([current_sequence[:, 1:], prediction.unsqueeze(1)], dim=1)\n",
        "\n",
        "    return predictions\n",
        "\n",
        "# Membaca dataset\n",
        "data = read_data()\n",
        "\n",
        "# Menentukan dimensi input, hidden, dan output untuk model GRU\n",
        "input_size = 1\n",
        "hidden_size = 64\n",
        "output_size = 1\n",
        "\n",
        "# Membuat model GRU\n",
        "model = GRUModel(input_size, hidden_size, output_size)\n",
        "\n",
        "# Membaca data terakhir untuk membuat prediksi\n",
        "last_timestamp = data['timestamp'].max()\n",
        "last_value = data[data['timestamp'] == last_timestamp]['value'].values[0]\n",
        "\n",
        "# Membuat urutan awal untuk prediksi\n",
        "initial_sequence = torch.tensor([[last_value]], dtype=torch.float32).unsqueeze(0).to(device)\n",
        "\n",
        "# Membuat prediksi 10 hari ke depan\n",
        "predictions = predict_future_with_dates(model, initial_sequence, num_steps=10)\n",
        "\n",
        "# Menghasilkan tanggal untuk prediksi (10 hari ke depan dari tanggal terakhir)\n",
        "future_dates = [last_timestamp + timedelta(days=i) for i in range(1, 11)]\n",
        "\n",
        "# Memvisualisasikan hasil prediksi\n",
        "plt.plot(data['timestamp'], data['value'], label='Actual Data')\n",
        "plt.plot(future_dates, predictions, label='Predicted Data')\n",
        "plt.xlabel('Timestamp')\n",
        "plt.ylabel('Values')\n",
        "plt.title('GRU Time Series Prediction for Next 10 Days')\n",
        "plt.legend()\n",
        "plt.show()\n"
      ],
      "metadata": {
        "id": "UKWF65SgxLUe"
      },
      "execution_count": null,
      "outputs": []
    }
  ]
}